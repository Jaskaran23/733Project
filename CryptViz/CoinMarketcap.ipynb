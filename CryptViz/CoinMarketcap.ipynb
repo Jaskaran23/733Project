{
 "cells": [
  {
   "cell_type": "markdown",
   "metadata": {},
   "source": [
    "# CoinMarketCap: Exploratory Data Analysis\n",
    "\n"
   ]
  },
  {
   "cell_type": "markdown",
   "metadata": {},
   "source": [
    "### Import and instantiate CoinMarketcap\n",
    "This object represents the data found at https://coinmarketcap.com."
   ]
  },
  {
   "cell_type": "code",
   "execution_count": 1,
   "metadata": {},
   "outputs": [],
   "source": [
    "from Scrapers.Coinmarketcap import coinmarketcap\n",
    "import pandas as pd"
   ]
  },
  {
   "cell_type": "code",
   "execution_count": 2,
   "metadata": {},
   "outputs": [],
   "source": [
    "cmk = coinmarketcap.CoinMarketcap()"
   ]
  },
  {
   "cell_type": "markdown",
   "metadata": {},
   "source": [
    "### Get coin obects.\n",
    "Coins are ranked by marketcap. The first one is probably bitcoin from https://coinmarketcap.com/currencies/bitcoin."
   ]
  },
  {
   "cell_type": "code",
   "execution_count": 3,
   "metadata": {},
   "outputs": [
    {
     "data": {
      "text/html": [
       "<div>\n",
       "<style scoped>\n",
       "    .dataframe tbody tr th:only-of-type {\n",
       "        vertical-align: middle;\n",
       "    }\n",
       "\n",
       "    .dataframe tbody tr th {\n",
       "        vertical-align: top;\n",
       "    }\n",
       "\n",
       "    .dataframe thead th {\n",
       "        text-align: right;\n",
       "    }\n",
       "</style>\n",
       "<table border=\"1\" class=\"dataframe\">\n",
       "  <thead>\n",
       "    <tr style=\"text-align: right;\">\n",
       "      <th></th>\n",
       "      <th>marketcap</th>\n",
       "      <th>name</th>\n",
       "      <th>price</th>\n",
       "      <th>symbol</th>\n",
       "      <th>timestamp</th>\n",
       "      <th>url</th>\n",
       "      <th>volume</th>\n",
       "    </tr>\n",
       "  </thead>\n",
       "  <tbody>\n",
       "    <tr>\n",
       "      <th>0</th>\n",
       "      <td>189536000000</td>\n",
       "      <td>Bitcoin</td>\n",
       "      <td>11231.80</td>\n",
       "      <td>BTC</td>\n",
       "      <td>None</td>\n",
       "      <td>http://coinmarketcap.com/currencies/bitcoin/</td>\n",
       "      <td>9926540000</td>\n",
       "    </tr>\n",
       "    <tr>\n",
       "      <th>1</th>\n",
       "      <td>92206500000</td>\n",
       "      <td>Ethereum</td>\n",
       "      <td>943.57</td>\n",
       "      <td>ETH</td>\n",
       "      <td>None</td>\n",
       "      <td>http://coinmarketcap.com/currencies/ethereum/</td>\n",
       "      <td>2545260000</td>\n",
       "    </tr>\n",
       "    <tr>\n",
       "      <th>2</th>\n",
       "      <td>44648100000</td>\n",
       "      <td>Ripple</td>\n",
       "      <td>1.14</td>\n",
       "      <td>XRP</td>\n",
       "      <td>None</td>\n",
       "      <td>http://coinmarketcap.com/currencies/ripple/</td>\n",
       "      <td>806673000</td>\n",
       "    </tr>\n",
       "    <tr>\n",
       "      <th>3</th>\n",
       "      <td>26199800000</td>\n",
       "      <td>Bitcoin Cash</td>\n",
       "      <td>1543.27</td>\n",
       "      <td>BCH</td>\n",
       "      <td>None</td>\n",
       "      <td>http://coinmarketcap.com/currencies/bitcoin-cash/</td>\n",
       "      <td>820947000</td>\n",
       "    </tr>\n",
       "    <tr>\n",
       "      <th>4</th>\n",
       "      <td>12335100000</td>\n",
       "      <td>Litecoin</td>\n",
       "      <td>223.09</td>\n",
       "      <td>LTC</td>\n",
       "      <td>None</td>\n",
       "      <td>http://coinmarketcap.com/currencies/litecoin/</td>\n",
       "      <td>1739670000</td>\n",
       "    </tr>\n",
       "  </tbody>\n",
       "</table>\n",
       "</div>"
      ],
      "text/plain": [
       "      marketcap          name     price symbol timestamp  \\\n",
       "0  189536000000       Bitcoin  11231.80    BTC      None   \n",
       "1   92206500000      Ethereum    943.57    ETH      None   \n",
       "2   44648100000        Ripple      1.14    XRP      None   \n",
       "3   26199800000  Bitcoin Cash   1543.27    BCH      None   \n",
       "4   12335100000      Litecoin    223.09    LTC      None   \n",
       "\n",
       "                                                 url      volume  \n",
       "0       http://coinmarketcap.com/currencies/bitcoin/  9926540000  \n",
       "1      http://coinmarketcap.com/currencies/ethereum/  2545260000  \n",
       "2        http://coinmarketcap.com/currencies/ripple/   806673000  \n",
       "3  http://coinmarketcap.com/currencies/bitcoin-cash/   820947000  \n",
       "4      http://coinmarketcap.com/currencies/litecoin/  1739670000  "
      ]
     },
     "execution_count": 3,
     "metadata": {},
     "output_type": "execute_result"
    }
   ],
   "source": [
    "coins = cmk.coins()\n",
    "coin_data = [coin.json() for coin in coins]\n",
    "coin_data = pd.DataFrame(coin_data)\n",
    "coin_data.head()"
   ]
  },
  {
   "cell_type": "markdown",
   "metadata": {},
   "source": [
    "### Plot a pie chart of coins by marketcap"
   ]
  },
  {
   "cell_type": "code",
   "execution_count": 71,
   "metadata": {},
   "outputs": [],
   "source": [
    "num_coins = 5\n",
    "data = sorted(list(zip([int(x) for x in coin_data['marketcap'].values], coin_data['name'].values)), reverse=True)\n",
    "other = sum(d[0] for d in data[num_coins:])\n",
    "data = data[:num_coins] + [(other, 'other')]\n",
    "[sizes, labels] = zip(*data)"
   ]
  },
  {
   "cell_type": "code",
   "execution_count": 72,
   "metadata": {
    "scrolled": false
   },
   "outputs": [
    {
     "data": {
      "image/png": "[encoded data removed]",
      "text/plain": [
       "<matplotlib.figure.Figure at 0x7f4391540358>"
      ]
     },
     "metadata": {},
     "output_type": "display_data"
    }
   ],
   "source": [
    "import matplotlib.pyplot as plt\n",
    "%matplotlib inline\n",
    "\n",
    "fig1, ax1 = plt.subplots()\n",
    "ax1.pie(sizes, labels=labels, autopct='%1.1f%%',\n",
    "        shadow=False, startangle=90)\n",
    "ax1.axis('equal')  # Equal aspect ratio ensures that pie is drawn as a circle.\n",
    "\n",
    "plt.show()"
   ]
  },
  {
   "cell_type": "markdown",
   "metadata": {},
   "source": [
    "### Plot a Barchart of Coins by Marketcap"
   ]
  },
  {
   "cell_type": "markdown",
   "metadata": {},
   "source": [
    "### Get GitHub Page for Bitcoin"
   ]
  },
  {
   "cell_type": "code",
   "execution_count": 9,
   "metadata": {},
   "outputs": [],
   "source": [
    "bitcoin = coins[0]\n",
    "github = bitcoin.github()\n",
    "pinned_repos = github.pinned_repos()\n",
    "btc_repo = pinned_repos[0]"
   ]
  },
  {
   "cell_type": "markdown",
   "metadata": {},
   "source": [
    "#### Plot a coins GitHub Stars by Price"
   ]
  },
  {
   "cell_type": "markdown",
   "metadata": {},
   "source": [
    "#### Explore cmk Usage"
   ]
  },
  {
   "cell_type": "code",
   "execution_count": null,
   "metadata": {
    "scrolled": true
   },
   "outputs": [],
   "source": [
    "coin_data = cmk.all_coin_data()"
   ]
  },
  {
   "cell_type": "code",
   "execution_count": null,
   "metadata": {
    "scrolled": true
   },
   "outputs": [],
   "source": [
    "#features (TODO):\n",
    "#    timestamp\n",
    "#    github_stars\n",
    "\n",
    "coin_data.head()\n"
   ]
  },
  {
   "cell_type": "code",
   "execution_count": null,
   "metadata": {},
   "outputs": [],
   "source": [
    "coins = cmk.coins()"
   ]
  },
  {
   "cell_type": "code",
   "execution_count": null,
   "metadata": {},
   "outputs": [],
   "source": [
    "bitcoin = coins[0]"
   ]
  },
  {
   "cell_type": "code",
   "execution_count": null,
   "metadata": {},
   "outputs": [],
   "source": [
    "bitcoin"
   ]
  },
  {
   "cell_type": "code",
   "execution_count": null,
   "metadata": {},
   "outputs": [],
   "source": [
    "bitcoin = cmk.coin(bitcoin)"
   ]
  },
  {
   "cell_type": "code",
   "execution_count": null,
   "metadata": {},
   "outputs": [],
   "source": [
    "bitcoin"
   ]
  },
  {
   "cell_type": "code",
   "execution_count": null,
   "metadata": {
    "scrolled": true
   },
   "outputs": [],
   "source": [
    "bitcoin.get_history()"
   ]
  },
  {
   "cell_type": "code",
   "execution_count": null,
   "metadata": {
    "scrolled": true
   },
   "outputs": [],
   "source": [
    "cmk.coin_names()"
   ]
  },
  {
   "cell_type": "code",
   "execution_count": null,
   "metadata": {},
   "outputs": [],
   "source": []
  }
 ],
 "metadata": {
  "kernelspec": {
   "display_name": "733Project",
   "language": "python",
   "name": "733project"
  },
  "language_info": {
   "codemirror_mode": {
    "name": "ipython",
    "version": 3
   },
   "file_extension": ".py",
   "mimetype": "text/x-python",
   "name": "python",
   "nbconvert_exporter": "python",
   "pygments_lexer": "ipython3",
   "version": "3.6.3"
  }
 },
 "nbformat": 4,
 "nbformat_minor": 2
}
