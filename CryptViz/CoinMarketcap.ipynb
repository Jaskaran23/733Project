{
 "cells": [
  {
   "cell_type": "code",
   "execution_count": 1,
   "metadata": {},
   "outputs": [],
   "source": [
    "from Scrapers.Coinmarketcap import coinmarketcap"
   ]
  },
  {
   "cell_type": "code",
   "execution_count": 2,
   "metadata": {},
   "outputs": [],
   "source": [
    "cmk = coinmarketcap.CoinMarketcap()"
   ]
  },
  {
   "cell_type": "code",
   "execution_count": 3,
   "metadata": {
    "scrolled": true
   },
   "outputs": [],
   "source": [
    "coin_data = cmk.all_coin_data()"
   ]
  },
  {
   "cell_type": "code",
   "execution_count": 4,
   "metadata": {},
   "outputs": [
    {
     "data": {
      "text/html": [
       "<div>\n",
       "<style scoped>\n",
       "    .dataframe tbody tr th:only-of-type {\n",
       "        vertical-align: middle;\n",
       "    }\n",
       "\n",
       "    .dataframe tbody tr th {\n",
       "        vertical-align: top;\n",
       "    }\n",
       "\n",
       "    .dataframe thead th {\n",
       "        text-align: right;\n",
       "    }\n",
       "</style>\n",
       "<table border=\"1\" class=\"dataframe\">\n",
       "  <thead>\n",
       "    <tr style=\"text-align: right;\">\n",
       "      <th></th>\n",
       "      <th>marketcap</th>\n",
       "      <th>name</th>\n",
       "      <th>price</th>\n",
       "      <th>symbol</th>\n",
       "      <th>url</th>\n",
       "      <th>volume</th>\n",
       "    </tr>\n",
       "  </thead>\n",
       "  <tbody>\n",
       "    <tr>\n",
       "      <th>0</th>\n",
       "      <td>189536000000</td>\n",
       "      <td>Bitcoin</td>\n",
       "      <td>11231.80</td>\n",
       "      <td>BTC</td>\n",
       "      <td>http://coinmarketcap.com/currencies/bitcoin/</td>\n",
       "      <td>9926540000</td>\n",
       "    </tr>\n",
       "    <tr>\n",
       "      <th>1</th>\n",
       "      <td>92206500000</td>\n",
       "      <td>Ethereum</td>\n",
       "      <td>943.57</td>\n",
       "      <td>ETH</td>\n",
       "      <td>http://coinmarketcap.com/currencies/ethereum/</td>\n",
       "      <td>2545260000</td>\n",
       "    </tr>\n",
       "    <tr>\n",
       "      <th>2</th>\n",
       "      <td>44648100000</td>\n",
       "      <td>Ripple</td>\n",
       "      <td>1.14</td>\n",
       "      <td>XRP</td>\n",
       "      <td>http://coinmarketcap.com/currencies/ripple/</td>\n",
       "      <td>806673000</td>\n",
       "    </tr>\n",
       "    <tr>\n",
       "      <th>3</th>\n",
       "      <td>26199800000</td>\n",
       "      <td>Bitcoin Cash</td>\n",
       "      <td>1543.27</td>\n",
       "      <td>BCH</td>\n",
       "      <td>http://coinmarketcap.com/currencies/bitcoin-cash/</td>\n",
       "      <td>820947000</td>\n",
       "    </tr>\n",
       "    <tr>\n",
       "      <th>4</th>\n",
       "      <td>12335100000</td>\n",
       "      <td>Litecoin</td>\n",
       "      <td>223.09</td>\n",
       "      <td>LTC</td>\n",
       "      <td>http://coinmarketcap.com/currencies/litecoin/</td>\n",
       "      <td>1739670000</td>\n",
       "    </tr>\n",
       "  </tbody>\n",
       "</table>\n",
       "</div>"
      ],
      "text/plain": [
       "      marketcap          name     price symbol  \\\n",
       "0  189536000000       Bitcoin  11231.80    BTC   \n",
       "1   92206500000      Ethereum    943.57    ETH   \n",
       "2   44648100000        Ripple      1.14    XRP   \n",
       "3   26199800000  Bitcoin Cash   1543.27    BCH   \n",
       "4   12335100000      Litecoin    223.09    LTC   \n",
       "\n",
       "                                                 url      volume  \n",
       "0       http://coinmarketcap.com/currencies/bitcoin/  9926540000  \n",
       "1      http://coinmarketcap.com/currencies/ethereum/  2545260000  \n",
       "2        http://coinmarketcap.com/currencies/ripple/   806673000  \n",
       "3  http://coinmarketcap.com/currencies/bitcoin-cash/   820947000  \n",
       "4      http://coinmarketcap.com/currencies/litecoin/  1739670000  "
      ]
     },
     "execution_count": 4,
     "metadata": {},
     "output_type": "execute_result"
    }
   ],
   "source": [
    "#features:\n",
    "#    name\n",
    "#    symbol\n",
    "#    relative url\n",
    "#    price\n",
    "#    timestamp\n",
    "#    marketcap\n",
    "#    volume\n",
    "#    github_stars\n",
    "\n",
    "coin_data.head()\n"
   ]
  },
  {
   "cell_type": "code",
   "execution_count": null,
   "metadata": {},
   "outputs": [],
   "source": [
    "\n"
   ]
  }
 ],
 "metadata": {
  "kernelspec": {
   "display_name": "733Project",
   "language": "python",
   "name": "733project"
  },
  "language_info": {
   "codemirror_mode": {
    "name": "ipython",
    "version": 3
   },
   "file_extension": ".py",
   "mimetype": "text/x-python",
   "name": "python",
   "nbconvert_exporter": "python",
   "pygments_lexer": "ipython3",
   "version": "3.6.3"
  }
 },
 "nbformat": 4,
 "nbformat_minor": 2
}
