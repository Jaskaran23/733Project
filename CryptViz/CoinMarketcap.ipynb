{
 "cells": [
  {
   "cell_type": "markdown",
   "metadata": {},
   "source": [
    "# CoinMarketCap: Exploratory Data Analysis\n",
    "\n"
   ]
  },
  {
   "cell_type": "markdown",
   "metadata": {},
   "source": [
    "### Import and instantiate CoinMarketcap\n",
    "This object represents the data found at https://coinmarketcap.com."
   ]
  },
  {
   "cell_type": "code",
   "execution_count": 1,
   "metadata": {},
   "outputs": [],
   "source": [
    "from Scrapers.Coinmarketcap import coinmarketcap\n",
    "import pandas as pd\n",
    "import matplotlib.pyplot as plt\n",
    "import seaborn as sns\n",
    "%matplotlib inline"
   ]
  },
  {
   "cell_type": "code",
   "execution_count": 2,
   "metadata": {},
   "outputs": [],
   "source": [
    "cmk = coinmarketcap.CoinMarketcap()"
   ]
  },
  {
   "cell_type": "markdown",
   "metadata": {},
   "source": [
    "### Get coin obects.\n",
    "Coins are ranked by marketcap. The first one is probably bitcoin from https://coinmarketcap.com/currencies/bitcoin."
   ]
  },
  {
   "cell_type": "code",
   "execution_count": 3,
   "metadata": {},
   "outputs": [
    {
     "data": {
      "text/html": [
       "<div>\n",
       "<style scoped>\n",
       "    .dataframe tbody tr th:only-of-type {\n",
       "        vertical-align: middle;\n",
       "    }\n",
       "\n",
       "    .dataframe tbody tr th {\n",
       "        vertical-align: top;\n",
       "    }\n",
       "\n",
       "    .dataframe thead th {\n",
       "        text-align: right;\n",
       "    }\n",
       "</style>\n",
       "<table border=\"1\" class=\"dataframe\">\n",
       "  <thead>\n",
       "    <tr style=\"text-align: right;\">\n",
       "      <th></th>\n",
       "      <th>github_url</th>\n",
       "      <th>marketcap</th>\n",
       "      <th>name</th>\n",
       "      <th>price</th>\n",
       "      <th>symbol</th>\n",
       "      <th>timestamp</th>\n",
       "      <th>url</th>\n",
       "      <th>volume</th>\n",
       "    </tr>\n",
       "  </thead>\n",
       "  <tbody>\n",
       "    <tr>\n",
       "      <th>0</th>\n",
       "      <td>https://github.com/bitcoin/</td>\n",
       "      <td>189536000000</td>\n",
       "      <td>Bitcoin</td>\n",
       "      <td>11231.80</td>\n",
       "      <td>BTC</td>\n",
       "      <td>None</td>\n",
       "      <td>http://coinmarketcap.com/currencies/bitcoin/</td>\n",
       "      <td>9926540000</td>\n",
       "    </tr>\n",
       "    <tr>\n",
       "      <th>1</th>\n",
       "      <td>https://github.com/ethereum</td>\n",
       "      <td>92206500000</td>\n",
       "      <td>Ethereum</td>\n",
       "      <td>943.57</td>\n",
       "      <td>ETH</td>\n",
       "      <td>None</td>\n",
       "      <td>http://coinmarketcap.com/currencies/ethereum/</td>\n",
       "      <td>2545260000</td>\n",
       "    </tr>\n",
       "    <tr>\n",
       "      <th>2</th>\n",
       "      <td>https://github.com/ripple</td>\n",
       "      <td>44648100000</td>\n",
       "      <td>Ripple</td>\n",
       "      <td>1.14</td>\n",
       "      <td>XRP</td>\n",
       "      <td>None</td>\n",
       "      <td>http://coinmarketcap.com/currencies/ripple/</td>\n",
       "      <td>806673000</td>\n",
       "    </tr>\n",
       "    <tr>\n",
       "      <th>3</th>\n",
       "      <td>https://github.com/bitcoincashorg/</td>\n",
       "      <td>26199800000</td>\n",
       "      <td>Bitcoin Cash</td>\n",
       "      <td>1543.27</td>\n",
       "      <td>BCH</td>\n",
       "      <td>None</td>\n",
       "      <td>http://coinmarketcap.com/currencies/bitcoin-cash/</td>\n",
       "      <td>820947000</td>\n",
       "    </tr>\n",
       "    <tr>\n",
       "      <th>4</th>\n",
       "      <td>https://github.com/litecoin-project/litecoin</td>\n",
       "      <td>12335100000</td>\n",
       "      <td>Litecoin</td>\n",
       "      <td>223.09</td>\n",
       "      <td>LTC</td>\n",
       "      <td>None</td>\n",
       "      <td>http://coinmarketcap.com/currencies/litecoin/</td>\n",
       "      <td>1739670000</td>\n",
       "    </tr>\n",
       "  </tbody>\n",
       "</table>\n",
       "</div>"
      ],
      "text/plain": [
       "                                     github_url     marketcap          name  \\\n",
       "0                   https://github.com/bitcoin/  189536000000       Bitcoin   \n",
       "1                   https://github.com/ethereum   92206500000      Ethereum   \n",
       "2                     https://github.com/ripple   44648100000        Ripple   \n",
       "3            https://github.com/bitcoincashorg/   26199800000  Bitcoin Cash   \n",
       "4  https://github.com/litecoin-project/litecoin   12335100000      Litecoin   \n",
       "\n",
       "      price symbol timestamp  \\\n",
       "0  11231.80    BTC      None   \n",
       "1    943.57    ETH      None   \n",
       "2      1.14    XRP      None   \n",
       "3   1543.27    BCH      None   \n",
       "4    223.09    LTC      None   \n",
       "\n",
       "                                                 url      volume  \n",
       "0       http://coinmarketcap.com/currencies/bitcoin/  9926540000  \n",
       "1      http://coinmarketcap.com/currencies/ethereum/  2545260000  \n",
       "2        http://coinmarketcap.com/currencies/ripple/   806673000  \n",
       "3  http://coinmarketcap.com/currencies/bitcoin-cash/   820947000  \n",
       "4      http://coinmarketcap.com/currencies/litecoin/  1739670000  "
      ]
     },
     "execution_count": 3,
     "metadata": {},
     "output_type": "execute_result"
    }
   ],
   "source": [
    "coins = cmk.coins()\n",
    "coin_data = [coin.json() for coin in coins]\n",
    "coin_data = pd.DataFrame(coin_data)\n",
    "coin_data.head()"
   ]
  },
  {
   "cell_type": "markdown",
   "metadata": {},
   "source": [
    "### Plot a Barchart of Coins by Marketcap"
   ]
  },
  {
   "cell_type": "code",
   "execution_count": 4,
   "metadata": {},
   "outputs": [
    {
     "data": {
      "image/png": "[encoded data removed]",
      "text/plain": [
       "<matplotlib.figure.Figure at 0x7f723138d358>"
      ]
     },
     "metadata": {},
     "output_type": "display_data"
    }
   ],
   "source": [
    "plt.figure(figsize=(15,5))\n",
    "g = sns.barplot(data=coin_data[:20], x='name', y='marketcap')\n",
    "g = g.set_xticklabels(labels=coin_data['name'], rotation=60)\n"
   ]
  },
  {
   "cell_type": "markdown",
   "metadata": {},
   "source": [
    "### Plot a Pie Chart of Coins by Marketcap"
   ]
  },
  {
   "cell_type": "code",
   "execution_count": 5,
   "metadata": {},
   "outputs": [],
   "source": [
    "# Aggregate smaller values into 'other' category\n",
    "num_coins = 5\n",
    "data = sorted(list(zip(coin_data['marketcap'].values, coin_data['name'].values)), reverse=True)\n",
    "other = sum(d[0] for d in data[num_coins:])\n",
    "data = data[:num_coins] + [(other, 'other')]\n",
    "[sizes, labels] = zip(*data)"
   ]
  },
  {
   "cell_type": "code",
   "execution_count": 6,
   "metadata": {
    "scrolled": false
   },
   "outputs": [
    {
     "data": {
      "image/png": "[encoded data removed]",
      "text/plain": [
       "<matplotlib.figure.Figure at 0x7f722f232da0>"
      ]
     },
     "metadata": {},
     "output_type": "display_data"
    }
   ],
   "source": [
    "# Plot the chart\n",
    "fig1, ax1 = plt.subplots()\n",
    "ax1.pie(sizes, labels=labels, autopct='%1.1f%%',\n",
    "        shadow=False, startangle=90)\n",
    "ax1.axis('equal')  # Equal aspect ratio ensures that pie is drawn as a circle.\n",
    "plt.show()"
   ]
  },
  {
   "cell_type": "markdown",
   "metadata": {},
   "source": [
    "### Get GitHub Page for Bitcoin"
   ]
  },
  {
   "cell_type": "code",
   "execution_count": 9,
   "metadata": {},
   "outputs": [
    {
     "data": {
      "text/plain": [
       "{'name': 'bitcoin-repo', 'url': 'https://github.com/bitcoin/bitcoin', 'description': 'Bitcoin Core integration/staging tree', 'language': 'C++', 'stars': 28478, 'forks': 16882, 'watch': 3038}"
      ]
     },
     "execution_count": 9,
     "metadata": {},
     "output_type": "execute_result"
    }
   ],
   "source": [
    "bitcoin = coins[0]\n",
    "btc_github = bitcoin.github()\n",
    "btc_repo = btc_github.pinned_repos()[0]\n",
    "btc_repo"
   ]
  },
  {
   "cell_type": "code",
   "execution_count": null,
   "metadata": {},
   "outputs": [],
   "source": []
  },
  {
   "cell_type": "markdown",
   "metadata": {},
   "source": [
    "#### Plot a coins GitHub Stars by Price"
   ]
  },
  {
   "cell_type": "markdown",
   "metadata": {},
   "source": [
    "#### Explore cmk Usage"
   ]
  },
  {
   "cell_type": "code",
   "execution_count": null,
   "metadata": {
    "scrolled": true
   },
   "outputs": [],
   "source": [
    "coin_data = cmk.all_coin_data()"
   ]
  },
  {
   "cell_type": "code",
   "execution_count": null,
   "metadata": {
    "scrolled": true
   },
   "outputs": [],
   "source": [
    "#features (TODO):\n",
    "#    timestamp\n",
    "#    github_stars\n",
    "\n",
    "coin_data.head()\n"
   ]
  },
  {
   "cell_type": "code",
   "execution_count": null,
   "metadata": {},
   "outputs": [],
   "source": [
    "coins = cmk.coins()"
   ]
  },
  {
   "cell_type": "code",
   "execution_count": null,
   "metadata": {},
   "outputs": [],
   "source": [
    "bitcoin = coins[0]"
   ]
  },
  {
   "cell_type": "code",
   "execution_count": null,
   "metadata": {},
   "outputs": [],
   "source": [
    "bitcoin"
   ]
  },
  {
   "cell_type": "code",
   "execution_count": null,
   "metadata": {},
   "outputs": [],
   "source": [
    "bitcoin = cmk.coin(bitcoin)"
   ]
  },
  {
   "cell_type": "code",
   "execution_count": null,
   "metadata": {},
   "outputs": [],
   "source": [
    "bitcoin"
   ]
  },
  {
   "cell_type": "code",
   "execution_count": null,
   "metadata": {
    "scrolled": true
   },
   "outputs": [],
   "source": [
    "bitcoin.get_history()"
   ]
  },
  {
   "cell_type": "code",
   "execution_count": null,
   "metadata": {
    "scrolled": true
   },
   "outputs": [],
   "source": [
    "cmk.coin_names()"
   ]
  },
  {
   "cell_type": "code",
   "execution_count": null,
   "metadata": {},
   "outputs": [],
   "source": []
  }
 ],
 "metadata": {
  "kernelspec": {
   "display_name": "733Project",
   "language": "python",
   "name": "733project"
  },
  "language_info": {
   "codemirror_mode": {
    "name": "ipython",
    "version": 3
   },
   "file_extension": ".py",
   "mimetype": "text/x-python",
   "name": "python",
   "nbconvert_exporter": "python",
   "pygments_lexer": "ipython3",
   "version": "3.6.3"
  }
 },
 "nbformat": 4,
 "nbformat_minor": 2
}
