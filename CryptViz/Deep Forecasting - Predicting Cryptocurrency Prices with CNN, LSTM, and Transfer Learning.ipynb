{
 "cells": [
  {
   "cell_type": "markdown",
   "metadata": {},
   "source": [
    "# Deep Forecasting: Predicting Cryptocurrency Prices with CNN, LSTM, and Transfer Learning\n",
    "\n",
    "### Introduction\n",
    "In this notebook we will collect price history data for the top 100 coins by marketcap. We will chunk data into 2D tensors of 90x5 where 90 is number of days of input, and 5 is  the number of feature points per coin per day. Feature points are: ['Open', 'High', 'Low', 'Close', 'DayOfYear']. From this time series data, our model will learn to predict how prices will change for 1, and 30, days in the future. Our experiments include both an LSTM and a CNN implementation, both of which take the same data as input. \n",
    "\n",
    "Original models will be trained for Binary Prediction, that is, to predict if a price will go up or down after n days. We will use transfer learning by retraining the final layers of the model for alternative forecast types. We will implement three forecast types Binary, Linear, and Stochastic; the only difference bieng their respective output activation functions: Sigmoid, Linear, and Softmax.\n",
    "\n",
    "### 1. Data Collection and Aquisition\n",
    "* Coinmarketcap module\n",
    "* Coin anonymity\n",
    "* Input Shape: (90,5)\n",
    "\n",
    "### 2. Model Definitions\n",
    "* CNN\n",
    "* LSTM\n",
    "\n",
    "### 3. Binary Forecasting\n",
    "* Binary Forecasting\n",
    "    * For each coin, predict if the price of that coin will be higher or lower in n days.\n",
    "    * Activation: sigmoid\n",
    "    * Target: sigmoid(future price / current price)\n",
    "\n",
    "### 4. Linear Forecasting with Transfer Learning\n",
    "* Linear Forecasting or Price Prediction:\n",
    "    * Predict the actual price of a coin at a future date.\n",
    "    * Additional Layer: Dense(21)\n",
    "    * Activation: linear\n",
    "    * Target: future price / current price\n",
    "\n",
    "### 5. Applications\n",
    "* Cryptocurrency Investment Recommendations\n",
    "    * A ranking of coin evaluations and predicted prices\n",
    "    \n",
    "### 6. Future Work\n",
    "* Stochastic Forecasting: \n",
    "    * Produce a stochastic evaluation over all coins. That is, produce a vector of length equal to number of coins, whos elements are non-zero and sum to one. Each element of the vector is a scalar evaluation of a coin. This vector can be thought of as a confidence distribution over the coins, where the higher the evaluation, the higher the confidence of gain in price. This vector can also be used to simulate an investment portfolio, as a portfolio can be seen as a stochastiv vector of assets.\n",
    "    * This requires an additional dimension input. Inputs must be stacked in a Tensor\n",
    "    * Activation: softmax\n",
    "    * Target: softmax(future prices / current prices)\n",
    "    \n",
    "* Application: Portfolio Recommendation\n",
    "    * A recommended portfolio distribution for cryptocurrency investment\n",
    "\n",
    "### 7. Conclusion\n"
   ]
  },
  {
   "cell_type": "markdown",
   "metadata": {},
   "source": [
    "## 0. Dependencies and Experiment Parameters"
   ]
  },
  {
   "cell_type": "code",
   "execution_count": 1,
   "metadata": {
    "scrolled": true
   },
   "outputs": [],
   "source": [
    "%load_ext autoreload\n",
    "%autoreload 2\n",
    "%matplotlib inline\n",
    "import numpy as np\n",
    "import pandas as pd\n",
    "import xarray as xr\n",
    "import seaborn as sns\n",
    "import matplotlib.pyplot as plt\n",
    "import pickle\n",
    "import tqdm\n",
    "\n",
    "DAYS_BLK  = 90 # Number of input days for learning\n",
    "TARGETS   = [1, 10, 30, 90] # Number of days to predict in the future\n",
    "TEST_DAYS = 30 # Number of most recent days to withold from the training set for testing"
   ]
  },
  {
   "cell_type": "markdown",
   "metadata": {},
   "source": [
    "## 1. Data Acquisition and Cleaning"
   ]
  },
  {
   "cell_type": "code",
   "execution_count": 2,
   "metadata": {},
   "outputs": [],
   "source": [
    "def compile_samples(coins, DAYS_BLK, TARGETS):\n",
    "    # Compile a list of training examples, accompanied by target values for future prices\n",
    "    train_samples = []\n",
    "    for coin in tqdm.tqdm(coins):\n",
    "        # Get all available price history for a given coin\n",
    "        coin_data = coin.read_history()\n",
    "\n",
    "        # Drop unneccessary columns\n",
    "        coin_data = coin_data.drop(['Volume', 'Market Cap', 'Unnamed: 0'], 1) \n",
    "\n",
    "        # Reverse date ordering so we predict the future instead of the past\n",
    "        coin_data['Date'] = pd.to_datetime(coin_data['Date'])\n",
    "        coin_data = coin_data.sort_values(['Date']) \n",
    "\n",
    "        # Convert Date to Day of Year(DOY)\n",
    "        coin_data['DOY'] = coin_data['Date'].apply(lambda x: x.dayofyear)\n",
    "        coin_data = coin_data.drop(['Date'], 1)\n",
    "\n",
    "        # Chunk coin history into input/target train pairs\n",
    "        for t in range(len(coin_data) - DAYS_BLK - TARGETS[-1] - TEST_DAYS):\n",
    "\n",
    "            # X is a 90 day chunk of shape: (90, 5)\n",
    "            X = coin_data.iloc[t:t+DAYS_BLK].copy()\n",
    "            # y is a list of future prices [1, 10, 30, 90] days after X\n",
    "            y = [coin_data.iloc[t+DAYS_BLK+n]['Close'] for n in TARGETS]\n",
    "\n",
    "            # Normalize prices relative to the final input close price\n",
    "            price_cols = ['Open', 'High', 'Low', 'Close']\n",
    "            current_price = X.values[-1][3]\n",
    "            for col in price_cols:\n",
    "                X[col] = X[col] / current_price\n",
    "\n",
    "            # Normalize future prices by current price\n",
    "            y = [future_price / current_price for future_price in y]\n",
    "\n",
    "            # Normalize DOY column\n",
    "            X['DOY'] = X['DOY'] / 365\n",
    "\n",
    "            # Sample is ready\n",
    "            train_samples.append((X.values, y))\n",
    "    return train_samples"
   ]
  },
  {
   "cell_type": "code",
   "execution_count": 3,
   "metadata": {},
   "outputs": [],
   "source": [
    "# Get a list of coin objects for the top 100 coins from coinmarketcap.com\n",
    "from Scrapers.Coinmarketcap.coinmarketcap import CoinMarketcap\n",
    "cmk = CoinMarketcap()\n",
    "coins = cmk.coins()"
   ]
  },
  {
   "cell_type": "code",
   "execution_count": 4,
   "metadata": {},
   "outputs": [
    {
     "name": "stderr",
     "output_type": "stream",
     "text": [
      "100%|██████████| 100/100 [01:03<00:00,  1.58it/s]\n"
     ]
    }
   ],
   "source": [
    "# Cache samples because compiling them is timely\n",
    "RECOMPILE_SAMPLES = False\n",
    "if RECOMPILE_SAMPLES:\n",
    "    samples = compile_samples(coins, DAYS_BLK, TARGETS)\n",
    "    pickle.dump(samples, open( \"dataset.pickle\", \"wb\" ) )\n",
    "else:\n",
    "    try:\n",
    "        print(\"Checking Cache...\")\n",
    "        samples = pickle.load(open('dataset.pickle','rb'))\n",
    "        print(\"Cached samples loaded!\")\n",
    "    except FileNotFoundError:\n",
    "        print(\"Cached samples not found. Fetching data and compiling samples...\")\n",
    "        samples = compile_samples(coins, DAYS_BLK, TARGETS)\n",
    "        print(\"Caching samples...\")\n",
    "        pickle.dump(samples, open( \"dataset.pickle\", \"wb\" ) )\n",
    "        print(\"Done!\")"
   ]
  },
  {
   "cell_type": "code",
   "execution_count": 5,
   "metadata": {},
   "outputs": [
    {
     "data": {
      "text/plain": [
       "34926"
      ]
     },
     "execution_count": 5,
     "metadata": {},
     "output_type": "execute_result"
    }
   ],
   "source": [
    "len(samples)"
   ]
  },
  {
   "cell_type": "markdown",
   "metadata": {},
   "source": [
    "## 2. Model Definitions"
   ]
  },
  {
   "cell_type": "code",
   "execution_count": 6,
   "metadata": {},
   "outputs": [
    {
     "name": "stderr",
     "output_type": "stream",
     "text": [
      "/home/shawn/.virtualenvs/733Project/lib/python3.6/site-packages/h5py/__init__.py:36: FutureWarning: Conversion of the second argument of issubdtype from `float` to `np.floating` is deprecated. In future, it will be treated as `np.float64 == np.dtype(float).type`.\n",
      "  from ._conv import register_converters as _register_converters\n",
      "Using TensorFlow backend.\n"
     ]
    }
   ],
   "source": [
    "from keras.models import Sequential\n",
    "from keras.layers import Conv1D, MaxPooling1D, Dense, Flatten, LSTM, Dropout\n",
    "\n",
    "# Assert input shape\n",
    "N = 90 # Number of Days\n",
    "F = 5  # Number of Features: ['Open', 'High', 'Low', 'Close', 'DayOfYear']\n",
    "assert((N, F) == samples[0][0].shape)\n",
    "\n",
    "binary_kwargs = {\n",
    "    'output':'sigmoid',\n",
    "    'metrics':['accuracy'],\n",
    "    'loss':'binary_crossentropy',\n",
    "}"
   ]
  },
  {
   "cell_type": "code",
   "execution_count": 39,
   "metadata": {},
   "outputs": [],
   "source": [
    "def build_CNN(output='sigmoid', activations='selu', metrics=['accuracy'], loss='binary_crossentropy', optimizer='adam'):\n",
    "    # Define our Temporal Convolutional Model\n",
    "    model = Sequential()\n",
    "    model.add(Conv1D(filters=4, kernel_size=3, activation=activations, input_shape=[N,F]))\n",
    "    model.add(MaxPooling1D(pool_size=2))\n",
    "    model.add(Conv1D(filters=4, kernel_size=3, activation=activations))\n",
    "    model.add(MaxPooling1D(pool_size=2))\n",
    "    model.add(Conv1D(filters=16, kernel_size=21, activation=activations))\n",
    "    model.add(Flatten())\n",
    "    model.add(Dense(1, activation=output)) # 'linear' for price prediction, 'softmax' for stochastic forecasting\n",
    "    \n",
    "    # Compile our Model\n",
    "    model.compile(loss=loss, optimizer=optimizer, metrics=metrics)\n",
    "    \n",
    "    return model"
   ]
  },
  {
   "cell_type": "code",
   "execution_count": 40,
   "metadata": {},
   "outputs": [],
   "source": [
    "def build_LSTM(output='sigmoid', activations='selu', metrics=['accuracy'], loss='binary_crossentropy', dropout=0.25, optimizer=\"adam\"):\n",
    "    model = Sequential()\n",
    "    model.add(LSTM(4, input_shape=(N,F)))\n",
    "    model.add(Dropout(dropout))\n",
    "    model.add(Dense(units=1, activation=output))\n",
    "\n",
    "    model.compile(loss=loss, optimizer=optimizer, metrics=metrics)\n",
    "    return model"
   ]
  },
  {
   "cell_type": "markdown",
   "metadata": {},
   "source": [
    "## 3. Binary Forecasting"
   ]
  },
  {
   "cell_type": "code",
   "execution_count": 41,
   "metadata": {},
   "outputs": [],
   "source": [
    "# How many days into the future would you like to predict? Options: [1,10,30,90]\n",
    "n_days = 1\n",
    "target_index = TARGETS.index(n_days)\n",
    "\n",
    "# Split samples into inputs and targets\n",
    "X,y = zip(*samples)\n",
    "\n",
    "# target[0] is the price 1 day after input\n",
    "y = [target[0] for target in y]\n",
    "\n",
    "# convert target to boolean. 0 means price went down, 1 means price went up\n",
    "y = [int(target>1) for target in y]"
   ]
  },
  {
   "cell_type": "code",
   "execution_count": 42,
   "metadata": {},
   "outputs": [
    {
     "name": "stdout",
     "output_type": "stream",
     "text": [
      "Train on 27940 samples, validate on 6986 samples\n",
      "Epoch 1/5\n",
      "27940/27940 [==============================] - 3s 103us/step - loss: 0.6914 - acc: 0.5377 - val_loss: 0.6917 - val_acc: 0.5236\n",
      "Epoch 2/5\n",
      "27940/27940 [==============================] - 3s 93us/step - loss: 0.6861 - acc: 0.5514 - val_loss: 0.6926 - val_acc: 0.5331\n",
      "Epoch 3/5\n",
      "27940/27940 [==============================] - 3s 94us/step - loss: 0.6857 - acc: 0.5538 - val_loss: 0.6927 - val_acc: 0.5425\n",
      "Epoch 4/5\n",
      "27940/27940 [==============================] - 3s 94us/step - loss: 0.6848 - acc: 0.5583 - val_loss: 0.6884 - val_acc: 0.5488\n",
      "Epoch 5/5\n",
      "27940/27940 [==============================] - 3s 97us/step - loss: 0.6839 - acc: 0.5593 - val_loss: 0.6908 - val_acc: 0.5457\n"
     ]
    }
   ],
   "source": [
    "CNN_model = build_CNN()\n",
    "CNN_history = CNN_model.fit(np.array(X), np.array(y), epochs=5, batch_size=32, validation_split=0.2)"
   ]
  },
  {
   "cell_type": "code",
   "execution_count": 15,
   "metadata": {
    "scrolled": true
   },
   "outputs": [
    {
     "name": "stdout",
     "output_type": "stream",
     "text": [
      "Train on 27940 samples, validate on 6986 samples\n",
      "Epoch 1/10\n",
      "27940/27940 [==============================] - 27s 954us/step - loss: 0.6939 - val_loss: 0.6910\n",
      "Epoch 2/10\n",
      "27940/27940 [==============================] - 29s 1ms/step - loss: 0.6892 - val_loss: 0.6905\n",
      "Epoch 3/10\n",
      "27940/27940 [==============================] - 29s 1ms/step - loss: 0.6881 - val_loss: 0.6904\n",
      "Epoch 4/10\n",
      "27940/27940 [==============================] - 31s 1ms/step - loss: 0.6877 - val_loss: 0.6917\n",
      "Epoch 5/10\n",
      "27940/27940 [==============================] - 31s 1ms/step - loss: 0.6877 - val_loss: 0.6898\n",
      "Epoch 6/10\n",
      "27940/27940 [==============================] - 31s 1ms/step - loss: 0.6876 - val_loss: 0.6890\n",
      "Epoch 7/10\n",
      "27940/27940 [==============================] - 31s 1ms/step - loss: 0.6865 - val_loss: 0.6882\n",
      "Epoch 8/10\n",
      "27940/27940 [==============================] - 31s 1ms/step - loss: 0.6859 - val_loss: 0.6878\n",
      "Epoch 9/10\n",
      "27940/27940 [==============================] - 28s 1ms/step - loss: 0.6865 - val_loss: 0.6874\n",
      "Epoch 10/10\n",
      "27940/27940 [==============================] - 28s 1ms/step - loss: 0.6865 - val_loss: 0.6878\n"
     ]
    },
    {
     "data": {
      "text/plain": [
       "<keras.callbacks.History at 0x7f6104cb4240>"
      ]
     },
     "execution_count": 15,
     "metadata": {},
     "output_type": "execute_result"
    }
   ],
   "source": [
    "LSTM_model = build_LSTM()\n",
    "LSTM_history = LSTM_model.fit(np.array(X), np.array(y), epochs=10, batch_size=32, validation_split=0.2)"
   ]
  },
  {
   "cell_type": "code",
   "execution_count": 45,
   "metadata": {},
   "outputs": [
    {
     "name": "stdout",
     "output_type": "stream",
     "text": [
      "dict_keys(['val_loss', 'val_acc', 'loss', 'acc'])\n"
     ]
    },
    {
     "data": {
      "image/png": "[encoded data removed]",
      "text/plain": [
       "<matplotlib.figure.Figure at 0x7f60eb972a20>"
      ]
     },
     "metadata": {},
     "output_type": "display_data"
    },
    {
     "data": {
      "image/png": "[encoded data removed]",
      "text/plain": [
       "<matplotlib.figure.Figure at 0x7f6106f0be80>"
      ]
     },
     "metadata": {},
     "output_type": "display_data"
    }
   ],
   "source": [
    "history = CNN_history\n",
    "\n",
    "# summarize history for accuracy\n",
    "plt.plot(history.history['acc'])\n",
    "plt.plot(history.history['val_acc'])\n",
    "plt.title('model accuracy')\n",
    "plt.ylabel('accuracy')\n",
    "plt.xlabel('epoch')\n",
    "plt.legend(['train', 'test'], loc='upper left')\n",
    "plt.show()\n",
    "# summarize history for loss\n",
    "plt.plot(history.history['loss'])\n",
    "plt.plot(history.history['val_loss'])\n",
    "plt.title('model loss')\n",
    "plt.ylabel('loss')\n",
    "plt.xlabel('epoch')\n",
    "plt.legend(['train', 'test'], loc='upper left')\n",
    "plt.show()"
   ]
  },
  {
   "cell_type": "markdown",
   "metadata": {},
   "source": [
    "## 4. Linear Forecasting with Transfer Learning"
   ]
  },
  {
   "cell_type": "markdown",
   "metadata": {},
   "source": [
    "## 5. Applications"
   ]
  },
  {
   "cell_type": "markdown",
   "metadata": {},
   "source": [
    "### Cryptocurrency Investment Recommendations"
   ]
  },
  {
   "cell_type": "code",
   "execution_count": null,
   "metadata": {},
   "outputs": [],
   "source": []
  }
 ],
 "metadata": {
  "kernelspec": {
   "display_name": "733Project",
   "language": "python",
   "name": "733project"
  },
  "language_info": {
   "codemirror_mode": {
    "name": "ipython",
    "version": 3
   },
   "file_extension": ".py",
   "mimetype": "text/x-python",
   "name": "python",
   "nbconvert_exporter": "python",
   "pygments_lexer": "ipython3",
   "version": "3.6.3"
  }
 },
 "nbformat": 4,
 "nbformat_minor": 2
}
